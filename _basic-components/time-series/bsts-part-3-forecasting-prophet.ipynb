{
 "cells": [
  {
   "cell_type": "markdown",
   "metadata": {},
   "source": [
    "# Bayesian Structural Time Series: Forecasting and Decomposition Using Facebook's Prophet "
   ]
  },
  {
   "cell_type": "markdown",
   "metadata": {},
   "source": [
    "이 노트북은 Facebook Prophet을 사용하여 시계열 분해/예측을 어떻게 수행하는지 보여준다. Prophet은 내부적으로 Baysian Structural Time Series(BSTS) 구조를 가지지만, 단순 인터페이스 제공을 위해 대부분의 BSTS는 숨겨져있다.\n",
    "\n",
    "BSTS 예를 보기 위해 전기 수요 데이터를 사용한다.\n",
    "\n",
    "## Data\n",
    "`tensor-house-data` 저장소의 데이터셋을 참고한다.\n",
    "\n",
    "---"
   ]
  },
  {
   "cell_type": "code",
   "execution_count": null,
   "metadata": {},
   "outputs": [],
   "source": [
    "from matplotlib import pylab as plt\n",
    "import matplotlib.dates as mdates\n",
    "import seaborn as sns\n",
    "import pandas as pd\n",
    "import numpy as np\n",
    "from fbprophet import Prophet\n",
    "\n",
    "demand_dates = np.arange('2014-01-01', '2014-02-26', dtype='datetime64[h]')\n",
    "demand_loc = mdates.WeekdayLocator(byweekday=mdates.WE)\n",
    "demand_fmt = mdates.DateFormatter('%a %b %d')\n",
    "\n",
    "data = pd.read_csv('../../../tensor-house-data/time-series/electricity-demand-victoria.csv', comment='#', header=None).T\n",
    "data = pd.concat([data, pd.DataFrame(demand_dates)], axis=1)\n",
    "data.columns = [\"demand\", \"temperature\", \"date\"]\n",
    "\n",
    "# 데이터 분리\n",
    "num_forecast_steps = 24 * 7 * 2 # two weeks\n",
    "data_training = data[:-num_forecast_steps]\n",
    "data_test = data[-num_forecast_steps:]\n",
    "\n",
    "colors = sns.color_palette()\n",
    "c1, c2 = colors[0], colors[1]\n",
    "\n",
    "fig = plt.figure(figsize=(12, 6))\n",
    "ax = fig.add_subplot(2, 1, 1)\n",
    "ax.plot(data_training.date,\n",
    "        data_training.demand, lw=2, label=\"training data\")\n",
    "ax.set_ylabel(\"Hourly demand (GW)\")\n",
    "\n",
    "ax = fig.add_subplot(2, 1, 2)\n",
    "\n",
    "ax.plot(data_training.date,\n",
    "        data_training.temperature, lw=2, label=\"training data\", c=c2)\n",
    "ax.set_ylabel(\"Temperature (deg C)\")\n",
    "ax.set_title(\"Temperature\")\n",
    "ax.xaxis.set_major_locator(demand_loc)\n",
    "ax.xaxis.set_major_formatter(demand_fmt)\n",
    "fig.suptitle(\"Electricity Demand in Victoria, Australia (2014)\", fontsize=15)\n",
    "fig.autofmt_xdate()\n",
    "\n",
    "\n",
    "#\n",
    "# Forecasting and decomposition using Prophet\n",
    "#\n",
    "df = data_training.rename(columns={'date':'ds', 'demand':'y'})\n",
    "\n",
    "# 학습\n",
    "m = Prophet(yearly_seasonality=False)\n",
    "m.fit(df)\n",
    "\n",
    "# 테스트\n",
    "future = m.make_future_dataframe(periods=num_forecast_steps, freq='H')\n",
    "forecast = m.predict(future)\n",
    "fig1 = m.plot(forecast)\n",
    "fig2 = m.plot_components(forecast)"
   ]
  },
  {
   "cell_type": "code",
   "execution_count": null,
   "metadata": {},
   "outputs": [],
   "source": []
  }
 ],
 "metadata": {
  "kernelspec": {
   "display_name": "Python 3",
   "language": "python",
   "name": "python3"
  },
  "language_info": {
   "codemirror_mode": {
    "name": "ipython",
    "version": 3
   },
   "file_extension": ".py",
   "mimetype": "text/x-python",
   "name": "python",
   "nbconvert_exporter": "python",
   "pygments_lexer": "ipython3",
   "version": "3.8.5"
  }
 },
 "nbformat": 4,
 "nbformat_minor": 4
}
